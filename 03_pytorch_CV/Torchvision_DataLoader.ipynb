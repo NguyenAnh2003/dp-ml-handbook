{
  "nbformat": 4,
  "nbformat_minor": 0,
  "metadata": {
    "colab": {
      "provenance": []
    },
    "kernelspec": {
      "name": "python3",
      "display_name": "Python 3"
    },
    "language_info": {
      "name": "python"
    },
    "widgets": {
      "application/vnd.jupyter.widget-state+json": {
        "c40e2e2f99e3492bba90f8fe6ed1ade3": {
          "model_module": "@jupyter-widgets/controls",
          "model_name": "HBoxModel",
          "model_module_version": "1.5.0",
          "state": {
            "_dom_classes": [],
            "_model_module": "@jupyter-widgets/controls",
            "_model_module_version": "1.5.0",
            "_model_name": "HBoxModel",
            "_view_count": null,
            "_view_module": "@jupyter-widgets/controls",
            "_view_module_version": "1.5.0",
            "_view_name": "HBoxView",
            "box_style": "",
            "children": [
              "IPY_MODEL_6c9210a1376b4798969ce9b337dc0f35",
              "IPY_MODEL_241058de5ef64f36a3643558473c97cc",
              "IPY_MODEL_e7c5f581da2943d99c5c61dcd9359ddb"
            ],
            "layout": "IPY_MODEL_d91f1a3616a04dde83ab5be1fe98f9a6"
          }
        },
        "6c9210a1376b4798969ce9b337dc0f35": {
          "model_module": "@jupyter-widgets/controls",
          "model_name": "HTMLModel",
          "model_module_version": "1.5.0",
          "state": {
            "_dom_classes": [],
            "_model_module": "@jupyter-widgets/controls",
            "_model_module_version": "1.5.0",
            "_model_name": "HTMLModel",
            "_view_count": null,
            "_view_module": "@jupyter-widgets/controls",
            "_view_module_version": "1.5.0",
            "_view_name": "HTMLView",
            "description": "",
            "description_tooltip": null,
            "layout": "IPY_MODEL_17f104e8012c4a6787e60668bfe055e8",
            "placeholder": "​",
            "style": "IPY_MODEL_8f607759234a4fb79635eca6266c496b",
            "value": "100%"
          }
        },
        "241058de5ef64f36a3643558473c97cc": {
          "model_module": "@jupyter-widgets/controls",
          "model_name": "FloatProgressModel",
          "model_module_version": "1.5.0",
          "state": {
            "_dom_classes": [],
            "_model_module": "@jupyter-widgets/controls",
            "_model_module_version": "1.5.0",
            "_model_name": "FloatProgressModel",
            "_view_count": null,
            "_view_module": "@jupyter-widgets/controls",
            "_view_module_version": "1.5.0",
            "_view_name": "ProgressView",
            "bar_style": "success",
            "description": "",
            "description_tooltip": null,
            "layout": "IPY_MODEL_7bcce7ccf7df4a169831e358ae8ad142",
            "max": 3,
            "min": 0,
            "orientation": "horizontal",
            "style": "IPY_MODEL_6eea5af35bd94eb39507440e30fa4cd7",
            "value": 3
          }
        },
        "e7c5f581da2943d99c5c61dcd9359ddb": {
          "model_module": "@jupyter-widgets/controls",
          "model_name": "HTMLModel",
          "model_module_version": "1.5.0",
          "state": {
            "_dom_classes": [],
            "_model_module": "@jupyter-widgets/controls",
            "_model_module_version": "1.5.0",
            "_model_name": "HTMLModel",
            "_view_count": null,
            "_view_module": "@jupyter-widgets/controls",
            "_view_module_version": "1.5.0",
            "_view_name": "HTMLView",
            "description": "",
            "description_tooltip": null,
            "layout": "IPY_MODEL_af1380034e4d403aa81bf18007546754",
            "placeholder": "​",
            "style": "IPY_MODEL_fb9972dbdec34c048cb918740e2a25b5",
            "value": " 3/3 [00:31&lt;00:00, 10.51s/it]"
          }
        },
        "d91f1a3616a04dde83ab5be1fe98f9a6": {
          "model_module": "@jupyter-widgets/base",
          "model_name": "LayoutModel",
          "model_module_version": "1.2.0",
          "state": {
            "_model_module": "@jupyter-widgets/base",
            "_model_module_version": "1.2.0",
            "_model_name": "LayoutModel",
            "_view_count": null,
            "_view_module": "@jupyter-widgets/base",
            "_view_module_version": "1.2.0",
            "_view_name": "LayoutView",
            "align_content": null,
            "align_items": null,
            "align_self": null,
            "border": null,
            "bottom": null,
            "display": null,
            "flex": null,
            "flex_flow": null,
            "grid_area": null,
            "grid_auto_columns": null,
            "grid_auto_flow": null,
            "grid_auto_rows": null,
            "grid_column": null,
            "grid_gap": null,
            "grid_row": null,
            "grid_template_areas": null,
            "grid_template_columns": null,
            "grid_template_rows": null,
            "height": null,
            "justify_content": null,
            "justify_items": null,
            "left": null,
            "margin": null,
            "max_height": null,
            "max_width": null,
            "min_height": null,
            "min_width": null,
            "object_fit": null,
            "object_position": null,
            "order": null,
            "overflow": null,
            "overflow_x": null,
            "overflow_y": null,
            "padding": null,
            "right": null,
            "top": null,
            "visibility": null,
            "width": null
          }
        },
        "17f104e8012c4a6787e60668bfe055e8": {
          "model_module": "@jupyter-widgets/base",
          "model_name": "LayoutModel",
          "model_module_version": "1.2.0",
          "state": {
            "_model_module": "@jupyter-widgets/base",
            "_model_module_version": "1.2.0",
            "_model_name": "LayoutModel",
            "_view_count": null,
            "_view_module": "@jupyter-widgets/base",
            "_view_module_version": "1.2.0",
            "_view_name": "LayoutView",
            "align_content": null,
            "align_items": null,
            "align_self": null,
            "border": null,
            "bottom": null,
            "display": null,
            "flex": null,
            "flex_flow": null,
            "grid_area": null,
            "grid_auto_columns": null,
            "grid_auto_flow": null,
            "grid_auto_rows": null,
            "grid_column": null,
            "grid_gap": null,
            "grid_row": null,
            "grid_template_areas": null,
            "grid_template_columns": null,
            "grid_template_rows": null,
            "height": null,
            "justify_content": null,
            "justify_items": null,
            "left": null,
            "margin": null,
            "max_height": null,
            "max_width": null,
            "min_height": null,
            "min_width": null,
            "object_fit": null,
            "object_position": null,
            "order": null,
            "overflow": null,
            "overflow_x": null,
            "overflow_y": null,
            "padding": null,
            "right": null,
            "top": null,
            "visibility": null,
            "width": null
          }
        },
        "8f607759234a4fb79635eca6266c496b": {
          "model_module": "@jupyter-widgets/controls",
          "model_name": "DescriptionStyleModel",
          "model_module_version": "1.5.0",
          "state": {
            "_model_module": "@jupyter-widgets/controls",
            "_model_module_version": "1.5.0",
            "_model_name": "DescriptionStyleModel",
            "_view_count": null,
            "_view_module": "@jupyter-widgets/base",
            "_view_module_version": "1.2.0",
            "_view_name": "StyleView",
            "description_width": ""
          }
        },
        "7bcce7ccf7df4a169831e358ae8ad142": {
          "model_module": "@jupyter-widgets/base",
          "model_name": "LayoutModel",
          "model_module_version": "1.2.0",
          "state": {
            "_model_module": "@jupyter-widgets/base",
            "_model_module_version": "1.2.0",
            "_model_name": "LayoutModel",
            "_view_count": null,
            "_view_module": "@jupyter-widgets/base",
            "_view_module_version": "1.2.0",
            "_view_name": "LayoutView",
            "align_content": null,
            "align_items": null,
            "align_self": null,
            "border": null,
            "bottom": null,
            "display": null,
            "flex": null,
            "flex_flow": null,
            "grid_area": null,
            "grid_auto_columns": null,
            "grid_auto_flow": null,
            "grid_auto_rows": null,
            "grid_column": null,
            "grid_gap": null,
            "grid_row": null,
            "grid_template_areas": null,
            "grid_template_columns": null,
            "grid_template_rows": null,
            "height": null,
            "justify_content": null,
            "justify_items": null,
            "left": null,
            "margin": null,
            "max_height": null,
            "max_width": null,
            "min_height": null,
            "min_width": null,
            "object_fit": null,
            "object_position": null,
            "order": null,
            "overflow": null,
            "overflow_x": null,
            "overflow_y": null,
            "padding": null,
            "right": null,
            "top": null,
            "visibility": null,
            "width": null
          }
        },
        "6eea5af35bd94eb39507440e30fa4cd7": {
          "model_module": "@jupyter-widgets/controls",
          "model_name": "ProgressStyleModel",
          "model_module_version": "1.5.0",
          "state": {
            "_model_module": "@jupyter-widgets/controls",
            "_model_module_version": "1.5.0",
            "_model_name": "ProgressStyleModel",
            "_view_count": null,
            "_view_module": "@jupyter-widgets/base",
            "_view_module_version": "1.2.0",
            "_view_name": "StyleView",
            "bar_color": null,
            "description_width": ""
          }
        },
        "af1380034e4d403aa81bf18007546754": {
          "model_module": "@jupyter-widgets/base",
          "model_name": "LayoutModel",
          "model_module_version": "1.2.0",
          "state": {
            "_model_module": "@jupyter-widgets/base",
            "_model_module_version": "1.2.0",
            "_model_name": "LayoutModel",
            "_view_count": null,
            "_view_module": "@jupyter-widgets/base",
            "_view_module_version": "1.2.0",
            "_view_name": "LayoutView",
            "align_content": null,
            "align_items": null,
            "align_self": null,
            "border": null,
            "bottom": null,
            "display": null,
            "flex": null,
            "flex_flow": null,
            "grid_area": null,
            "grid_auto_columns": null,
            "grid_auto_flow": null,
            "grid_auto_rows": null,
            "grid_column": null,
            "grid_gap": null,
            "grid_row": null,
            "grid_template_areas": null,
            "grid_template_columns": null,
            "grid_template_rows": null,
            "height": null,
            "justify_content": null,
            "justify_items": null,
            "left": null,
            "margin": null,
            "max_height": null,
            "max_width": null,
            "min_height": null,
            "min_width": null,
            "object_fit": null,
            "object_position": null,
            "order": null,
            "overflow": null,
            "overflow_x": null,
            "overflow_y": null,
            "padding": null,
            "right": null,
            "top": null,
            "visibility": null,
            "width": null
          }
        },
        "fb9972dbdec34c048cb918740e2a25b5": {
          "model_module": "@jupyter-widgets/controls",
          "model_name": "DescriptionStyleModel",
          "model_module_version": "1.5.0",
          "state": {
            "_model_module": "@jupyter-widgets/controls",
            "_model_module_version": "1.5.0",
            "_model_name": "DescriptionStyleModel",
            "_view_count": null,
            "_view_module": "@jupyter-widgets/base",
            "_view_module_version": "1.2.0",
            "_view_name": "StyleView",
            "description_width": ""
          }
        }
      }
    }
  },
  "cells": [
    {
      "cell_type": "code",
      "execution_count": 63,
      "metadata": {
        "id": "9f-gskOct1tQ"
      },
      "outputs": [],
      "source": []
    },
    {
      "cell_type": "markdown",
      "source": [
        "* `datasets: get datasets and data loading functions for computer vision here`\n",
        "* `models: get pretrained model that can leverage for own problem`\n",
        "* `transforms: manipulating ur vision data to be suitable for use of DP model`\n",
        "* `Dataset: Base dataset class for Pytorch`\n",
        "* `DataLoader: create a python iterable over dataset`"
      ],
      "metadata": {
        "id": "beH_yrKLunoc"
      }
    },
    {
      "cell_type": "code",
      "source": [
        "import torch\n",
        "from torch import nn\n",
        "\n",
        "# Torchvision\n",
        "import torchvision\n",
        "from torchvision import datasets\n",
        "from torchvision import transforms\n",
        "from torchvision.transforms import ToTensor\n",
        "\n",
        "# plt\n",
        "import matplotlib.pyplot as plt"
      ],
      "metadata": {
        "id": "5ADsP6VhvXG9"
      },
      "execution_count": 64,
      "outputs": []
    },
    {
      "cell_type": "code",
      "source": [
        "train_data = datasets.FashionMNIST(\n",
        "    root=\"data\",\n",
        "    train=True,\n",
        "    download=True,\n",
        "    transform=torchvision.transforms.ToTensor(), # convert to tensor\n",
        "    target_transform=None\n",
        ")"
      ],
      "metadata": {
        "id": "0mvAYCbyxBf2"
      },
      "execution_count": 65,
      "outputs": []
    },
    {
      "cell_type": "code",
      "source": [
        "test_data = datasets.FashionMNIST(\n",
        "    root=\"data\",\n",
        "    train=False,\n",
        "    download=True,\n",
        "    transform=ToTensor(),\n",
        "    target_transform=None\n",
        ")"
      ],
      "metadata": {
        "id": "VAxBTaTqyCLk"
      },
      "execution_count": 66,
      "outputs": []
    },
    {
      "cell_type": "code",
      "source": [
        "image, label = train_data[0]"
      ],
      "metadata": {
        "id": "VTK6LLcxyczD"
      },
      "execution_count": 67,
      "outputs": []
    },
    {
      "cell_type": "code",
      "source": [
        "class_names = train_data.classes\n",
        "class_names"
      ],
      "metadata": {
        "colab": {
          "base_uri": "https://localhost:8080/"
        },
        "id": "ckIaR2fozVfV",
        "outputId": "979f4750-9248-45c6-85ec-a83830030a84"
      },
      "execution_count": 68,
      "outputs": [
        {
          "output_type": "execute_result",
          "data": {
            "text/plain": [
              "['T-shirt/top',\n",
              " 'Trouser',\n",
              " 'Pullover',\n",
              " 'Dress',\n",
              " 'Coat',\n",
              " 'Sandal',\n",
              " 'Shirt',\n",
              " 'Sneaker',\n",
              " 'Bag',\n",
              " 'Ankle boot']"
            ]
          },
          "metadata": {},
          "execution_count": 68
        }
      ]
    },
    {
      "cell_type": "code",
      "source": [
        "image.shape # batch_size=None, color, w, h"
      ],
      "metadata": {
        "id": "7gCF_KmUzfe0",
        "colab": {
          "base_uri": "https://localhost:8080/"
        },
        "outputId": "0b4a9739-e32c-46b3-9c98-bef556919821"
      },
      "execution_count": 69,
      "outputs": [
        {
          "output_type": "execute_result",
          "data": {
            "text/plain": [
              "torch.Size([1, 28, 28])"
            ]
          },
          "metadata": {},
          "execution_count": 69
        }
      ]
    },
    {
      "cell_type": "markdown",
      "source": [
        "### Prepare Dataloader\n",
        "* tunrn data into mini batches\n",
        "* Why - more computational efficient, hardware may not be able to store in memory at 60000 images in one hit. -> break down to 32 images at a time (batch size of 32)\n",
        "* More chances to update its gradients per epoch"
      ],
      "metadata": {
        "id": "xaTFTNdj1Ifl"
      }
    },
    {
      "cell_type": "code",
      "source": [
        "from torch.utils.data import DataLoader\n",
        "# batch_size: samples per batch"
      ],
      "metadata": {
        "id": "qcAVP9a2zfYv"
      },
      "execution_count": 70,
      "outputs": []
    },
    {
      "cell_type": "code",
      "source": [
        "BATCH_SIZE = 32\n",
        "# DataLoader for Dataset\n",
        "train_dataloader = DataLoader(dataset=train_data, batch_size=BATCH_SIZE, shuffle=True)\n",
        "test_dataloader = DataLoader(dataset=test_data, batch_size=BATCH_SIZE, shuffle=False)"
      ],
      "metadata": {
        "id": "KITyGbVo75SR"
      },
      "execution_count": 71,
      "outputs": []
    },
    {
      "cell_type": "code",
      "source": [
        "train_dataloader, test_dataloader"
      ],
      "metadata": {
        "colab": {
          "base_uri": "https://localhost:8080/"
        },
        "id": "FQv2tT9JzfWR",
        "outputId": "9438d184-fe26-4b3d-a8aa-4de0eb51bb96"
      },
      "execution_count": 72,
      "outputs": [
        {
          "output_type": "execute_result",
          "data": {
            "text/plain": [
              "(<torch.utils.data.dataloader.DataLoader at 0x7c0ae2e86320>,\n",
              " <torch.utils.data.dataloader.DataLoader at 0x7c0ae2e87c70>)"
            ]
          },
          "metadata": {},
          "execution_count": 72
        }
      ]
    },
    {
      "cell_type": "code",
      "source": [
        "# inside training dataloader\n",
        "train_feats_batch, train_labels_batch = next(iter(train_dataloader))\n",
        "train_feats_batch.shape, train_labels_batch.shape"
      ],
      "metadata": {
        "colab": {
          "base_uri": "https://localhost:8080/"
        },
        "id": "h4aQH-uuzfTs",
        "outputId": "f84ac77c-7d1f-47f9-c745-a33d2942f4e4"
      },
      "execution_count": 73,
      "outputs": [
        {
          "output_type": "execute_result",
          "data": {
            "text/plain": [
              "(torch.Size([32, 1, 28, 28]), torch.Size([32]))"
            ]
          },
          "metadata": {},
          "execution_count": 73
        }
      ]
    },
    {
      "cell_type": "markdown",
      "source": [
        "# Base Line Model\n",
        "\n",
        "Base line model - a simple model u'll try and improve upon with subsequent model - Start simply and add complexity when necessary"
      ],
      "metadata": {
        "id": "zQi34jDd9oq6"
      }
    },
    {
      "cell_type": "markdown",
      "source": [
        "Flatten: https://www.superdatascience.com/blogs/convolutional-neural-networks-cnn-step-3-flattening"
      ],
      "metadata": {
        "id": "Z3u_xRaiENAS"
      }
    },
    {
      "cell_type": "code",
      "source": [
        "# Flatten layer\n",
        "flatten_model = nn.Flatten()\n",
        "\n",
        "# Get a single sample\n",
        "x = train_feats_batch[0]\n",
        "# 1, 28, 28 - color, H, W\n",
        "# Flatten sample\n",
        "output = flatten_model(x)\n",
        "# color, H*W\n",
        "print(f\"before flattening {x.shape} After {output.shape}\")"
      ],
      "metadata": {
        "id": "fq5n_6fOzfQ0",
        "colab": {
          "base_uri": "https://localhost:8080/"
        },
        "outputId": "b37c421f-6569-4d21-8fda-f29c6d114082"
      },
      "execution_count": 74,
      "outputs": [
        {
          "output_type": "stream",
          "name": "stdout",
          "text": [
            "before flattening torch.Size([1, 28, 28]) After torch.Size([1, 784])\n"
          ]
        }
      ]
    },
    {
      "cell_type": "code",
      "source": [
        "class Model0(nn.Module):\n",
        "  def __init__(self, input_shape, hidden_units, output_shape):\n",
        "    super().__init__()\n",
        "    # define layer stack with Sequential\n",
        "    self.layer_stack = nn.Sequential(\n",
        "        # Flatting from tensor -> vector (including features)\n",
        "        nn.Flatten(), # flatten layer\n",
        "        nn.Linear(in_features=input_shape, out_features=hidden_units), # adjust output shape -> if dont have Flatten -> adjust in_features=28\n",
        "        nn.ReLU(),\n",
        "        # outout -> output_shape = 10 classes if dont have Flatten [1, 1, 28, 10]\n",
        "        nn.Linear(in_features=hidden_units, out_features=output_shape), # 2 Linear have to link together Li1 (out) -> Li2 (in)\n",
        "        nn.ReLU()\n",
        "    )\n",
        "\n",
        "  def forward(self, x):\n",
        "    return self.layer_stack(x)"
      ],
      "metadata": {
        "id": "5lN_WjCmzfOY"
      },
      "execution_count": 75,
      "outputs": []
    },
    {
      "cell_type": "code",
      "source": [
        "device = \"cpu\""
      ],
      "metadata": {
        "id": "q28TYfuYI7yy"
      },
      "execution_count": 76,
      "outputs": []
    },
    {
      "cell_type": "code",
      "source": [
        "# Setup with input params\n",
        "model0 = Model0(input_shape=784, hidden_units=20, output_shape=len(class_names)).to(device)"
      ],
      "metadata": {
        "id": "SSLLi4ktzfL1"
      },
      "execution_count": 77,
      "outputs": []
    },
    {
      "cell_type": "code",
      "source": [
        "model0"
      ],
      "metadata": {
        "id": "Jo8_nTg2zfJH",
        "colab": {
          "base_uri": "https://localhost:8080/"
        },
        "outputId": "9057b43c-4fc1-4a4c-8cfa-b7054f29d120"
      },
      "execution_count": 78,
      "outputs": [
        {
          "output_type": "execute_result",
          "data": {
            "text/plain": [
              "Model0(\n",
              "  (layer_stack): Sequential(\n",
              "    (0): Flatten(start_dim=1, end_dim=-1)\n",
              "    (1): Linear(in_features=784, out_features=20, bias=True)\n",
              "    (2): ReLU()\n",
              "    (3): Linear(in_features=20, out_features=10, bias=True)\n",
              "    (4): ReLU()\n",
              "  )\n",
              ")"
            ]
          },
          "metadata": {},
          "execution_count": 78
        }
      ]
    },
    {
      "cell_type": "code",
      "source": [
        "x = torch.randn([1, 1, 28, 28]) # batch_size, color, H, W"
      ],
      "metadata": {
        "id": "-WzYqo81zfGX"
      },
      "execution_count": 79,
      "outputs": []
    },
    {
      "cell_type": "code",
      "source": [
        "# Passing x to model\n",
        "model0(x).shape"
      ],
      "metadata": {
        "id": "5umDkxyLzfDt",
        "colab": {
          "base_uri": "https://localhost:8080/"
        },
        "outputId": "0bdf46de-836d-4b52-90c3-3f5c7fa89f3b"
      },
      "execution_count": 80,
      "outputs": [
        {
          "output_type": "execute_result",
          "data": {
            "text/plain": [
              "torch.Size([1, 10])"
            ]
          },
          "metadata": {},
          "execution_count": 80
        }
      ]
    },
    {
      "cell_type": "markdown",
      "source": [
        "# Creating loss function and Optimizer\n",
        "\n",
        "* Loss function multi-classes `CrossEntropyLoss`\n",
        "* Optimizer `SGD | Adam`\n",
        "* Metric `Accuracy`"
      ],
      "metadata": {
        "id": "YJkZhstDMFkz"
      }
    },
    {
      "cell_type": "code",
      "source": [
        "import requests\n",
        "from pathlib import Path"
      ],
      "metadata": {
        "id": "x7MW6L9MzfBW"
      },
      "execution_count": 81,
      "outputs": []
    },
    {
      "cell_type": "code",
      "source": [
        "req = requests.get(\"https://raw.githubusercontent.com/mrdbourke/pytorch-deep-learning/main/helper_functions.py\")\n",
        "with open(\"helper_functions.py\", \"wb\") as f:\n",
        "  f.write(req.content)"
      ],
      "metadata": {
        "id": "TYvEA3_Yze-e"
      },
      "execution_count": 82,
      "outputs": []
    },
    {
      "cell_type": "code",
      "source": [
        "from helper_functions import accuracy_fn"
      ],
      "metadata": {
        "id": "1xRy66cNze73"
      },
      "execution_count": 83,
      "outputs": []
    },
    {
      "cell_type": "code",
      "source": [
        "# Setup loss and optimizer\n",
        "loss_fn = nn.CrossEntropyLoss()\n",
        "optimizer = torch.optim.SGD(params=model0.parameters(), lr=0.01)"
      ],
      "metadata": {
        "id": "LQyM6sOxze5V"
      },
      "execution_count": 84,
      "outputs": []
    },
    {
      "cell_type": "markdown",
      "source": [
        "### Note\n",
        "* Model's performance (loss and accuracy value)\n",
        "* Time"
      ],
      "metadata": {
        "id": "iD1Eazz8YJEu"
      }
    },
    {
      "cell_type": "code",
      "source": [
        "from timeit import default_timer as timer"
      ],
      "metadata": {
        "id": "dF44_uYrze21"
      },
      "execution_count": 85,
      "outputs": []
    },
    {
      "cell_type": "code",
      "source": [
        "def train_time(start: float, end: float, device: torch.device = None):\n",
        "  total_time = end - start\n",
        "  print(f\"Train time on {device}: {total_time:.3f} s\")"
      ],
      "metadata": {
        "id": "-4lUyKjTze0Y"
      },
      "execution_count": 86,
      "outputs": []
    },
    {
      "cell_type": "markdown",
      "source": [
        "### Training and test loop for batched data\n",
        "\n",
        "1. Loop through epochs\n",
        "2. Loop through batches, perform training steps, cal the train loss *per batch*\n",
        "3. Loop through testing batches, perform testing steps, cal test loss *per batch*\n",
        "4. Time it all"
      ],
      "metadata": {
        "id": "BsfaUELDZfC9"
      }
    },
    {
      "cell_type": "code",
      "source": [
        "from tqdm.auto import tqdm"
      ],
      "metadata": {
        "id": "BAyjmzZbzexy"
      },
      "execution_count": 87,
      "outputs": []
    },
    {
      "cell_type": "code",
      "source": [
        "# start timer\n",
        "train_time_start = timer()\n",
        "\n",
        "# set the number of epochs\n",
        "epochs = 3\n",
        "for epoch in tqdm(range(epochs)):\n",
        "  print(f\"Epoch {epoch}\")\n",
        "  # training loss\n",
        "  train_loss = 0\n",
        "  # Add a loop through the training batches\n",
        "  for batch, (X, y) in enumerate(train_dataloader):\n",
        "    model0.train() # train\n",
        "    # forward pass\n",
        "    y_pred = model0(X) # X - input\n",
        "    # Loss\n",
        "    loss = loss_fn(y_pred, y)\n",
        "    train_loss += loss\n",
        "\n",
        "    # Optimizer zero grad\n",
        "    optimizer.zero_grad()\n",
        "\n",
        "    # Loss backward\n",
        "    loss.backward()\n",
        "\n",
        "    # Optimizer steps\n",
        "    optimizer.step()\n",
        "\n",
        "    if batch % 400 == 0:\n",
        "      print(f\"Looked at Batch {batch} and {batch*len(X)}/{len(train_dataloader.dataset)} samples\")\n",
        "\n",
        "  # devide train loss by length of train dataloader\n",
        "  train_loss /= len(train_dataloader)\n",
        "\n",
        "  # Test loss\n",
        "  test_loss, test_acc = 0, 0\n",
        "  model0.eval()\n",
        "\n",
        "  with torch.inference_mode():\n",
        "    for X_test, y_test in test_dataloader:\n",
        "      test_pred = model0(X_test)\n",
        "      test_loss += loss_fn(test_pred, y_test)\n",
        "      test_acc += accuracy_fn(y_true=y_test, y_pred=test_pred.argmax(dim=1))\n",
        "\n",
        "    test_loss /= len(test_dataloader)\n",
        "    test_acc /= len(test_dataloader)\n",
        "  print(f\"Train loss: {train_loss: .4f} | test loss: {test_loss:.4f} test acc: {test_acc:.4f}\")\n",
        "\n",
        "# cal time\n",
        "train_time_end = timer()\n",
        "total_train_time = train_time(start=train_time_start, end=train_time_end, device=str(next(model0.parameters())))"
      ],
      "metadata": {
        "id": "0ICwwvH8zevX",
        "colab": {
          "base_uri": "https://localhost:8080/",
          "height": 570,
          "referenced_widgets": [
            "c40e2e2f99e3492bba90f8fe6ed1ade3",
            "6c9210a1376b4798969ce9b337dc0f35",
            "241058de5ef64f36a3643558473c97cc",
            "e7c5f581da2943d99c5c61dcd9359ddb",
            "d91f1a3616a04dde83ab5be1fe98f9a6",
            "17f104e8012c4a6787e60668bfe055e8",
            "8f607759234a4fb79635eca6266c496b",
            "7bcce7ccf7df4a169831e358ae8ad142",
            "6eea5af35bd94eb39507440e30fa4cd7",
            "af1380034e4d403aa81bf18007546754",
            "fb9972dbdec34c048cb918740e2a25b5"
          ]
        },
        "outputId": "3d6a86a7-3f0c-4361-c421-eebc5cc88428"
      },
      "execution_count": 88,
      "outputs": [
        {
          "output_type": "display_data",
          "data": {
            "text/plain": [
              "  0%|          | 0/3 [00:00<?, ?it/s]"
            ],
            "application/vnd.jupyter.widget-view+json": {
              "version_major": 2,
              "version_minor": 0,
              "model_id": "c40e2e2f99e3492bba90f8fe6ed1ade3"
            }
          },
          "metadata": {}
        },
        {
          "output_type": "stream",
          "name": "stdout",
          "text": [
            "Epoch 0\n",
            "Looked at Batch 0 and 0/60000 samples\n",
            "Looked at Batch 400 and 12800/60000 samples\n",
            "Looked at Batch 800 and 25600/60000 samples\n",
            "Looked at Batch 1200 and 38400/60000 samples\n",
            "Looked at Batch 1600 and 51200/60000 samples\n",
            "Train loss:  1.2082 | test loss: 0.8968 test acc: 71.0363\n",
            "Epoch 1\n",
            "Looked at Batch 0 and 0/60000 samples\n",
            "Looked at Batch 400 and 12800/60000 samples\n",
            "Looked at Batch 800 and 25600/60000 samples\n",
            "Looked at Batch 1200 and 38400/60000 samples\n",
            "Looked at Batch 1600 and 51200/60000 samples\n",
            "Train loss:  0.6229 | test loss: 0.5859 test acc: 79.3830\n",
            "Epoch 2\n",
            "Looked at Batch 0 and 0/60000 samples\n",
            "Looked at Batch 400 and 12800/60000 samples\n",
            "Looked at Batch 800 and 25600/60000 samples\n",
            "Looked at Batch 1200 and 38400/60000 samples\n",
            "Looked at Batch 1600 and 51200/60000 samples\n",
            "Train loss:  0.5240 | test loss: 0.5320 test acc: 81.4597\n",
            "Train time on Parameter containing:\n",
            "tensor([[-0.0224, -0.0288,  0.0296,  ...,  0.0019,  0.0069,  0.0044],\n",
            "        [ 0.0084,  0.0076,  0.0188,  ...,  0.0045, -0.0003, -0.0306],\n",
            "        [ 0.0115,  0.0116,  0.0259,  ..., -0.0004, -0.0266, -0.0200],\n",
            "        ...,\n",
            "        [-0.0329,  0.0184,  0.0109,  ..., -0.0305, -0.0081,  0.0230],\n",
            "        [ 0.0190, -0.0203, -0.0114,  ...,  0.0043,  0.0066,  0.0306],\n",
            "        [ 0.0117,  0.0196, -0.0128,  ...,  0.0231,  0.0284, -0.0080]],\n",
            "       requires_grad=True): 31.516 s\n"
          ]
        }
      ]
    },
    {
      "cell_type": "markdown",
      "source": [
        "  make predictions and get model results"
      ],
      "metadata": {
        "id": "uCl65yGOhe3H"
      }
    },
    {
      "cell_type": "code",
      "source": [
        "def eval_model(model: torch.nn.Module, data_loader: torch.utils.data.DataLoader, loss_fn: torch.nn.Module, accuracy_fn):\n",
        "  loss, acc = 0, 0\n",
        "  model.eval()\n",
        "  with torch.inference_mode():\n",
        "    for X,y in data_loader:\n",
        "      y_pred= model(X)\n",
        "\n",
        "      loss += loss_fn(y_pred, y)\n",
        "      acc += accuracy_fn(y_true=y, y_pred=y_pred.argmax(dim=1))\n",
        "\n",
        "    loss /= len(data_loader)\n",
        "    acc /= len(data_loader)\n",
        "\n",
        "  return {\"model_name\": model.__class__.__name__,\n",
        "          \"model_loss\": loss.item(),\n",
        "          \"model_acc\": acc}\n",
        "\n",
        "model0_rs = eval_model(model=model0, data_loader=test_dataloader,loss_fn=loss_fn, accuracy_fn=accuracy_fn)"
      ],
      "metadata": {
        "id": "dQ445S5qzest"
      },
      "execution_count": 89,
      "outputs": []
    },
    {
      "cell_type": "code",
      "source": [
        "model0_rs"
      ],
      "metadata": {
        "id": "rKdecHKvzeqV",
        "colab": {
          "base_uri": "https://localhost:8080/"
        },
        "outputId": "8000cdcb-7f4e-43ed-84df-e7f621bf68f4"
      },
      "execution_count": 90,
      "outputs": [
        {
          "output_type": "execute_result",
          "data": {
            "text/plain": [
              "{'model_name': 'Model0',\n",
              " 'model_loss': 0.5319722890853882,\n",
              " 'model_acc': 81.45966453674122}"
            ]
          },
          "metadata": {},
          "execution_count": 90
        }
      ]
    }
  ]
}